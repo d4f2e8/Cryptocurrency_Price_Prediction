{
 "cells": [
  {
   "cell_type": "code",
   "execution_count": 338,
   "id": "ed53578a",
   "metadata": {},
   "outputs": [],
   "source": [
    "import numpy as np\n",
    "import matplotlib.pyplot as plt\n",
    "import pandas as pd\n",
    "import math\n",
    "from tensorflow.python.keras.models import Sequential\n",
    "from tensorflow.python.keras.layers import Dense, Activation, Dropout, LSTM\n",
    "from sklearn.preprocessing import MinMaxScaler\n",
    "from sklearn.metrics import mean_squared_error\n",
    "from tensorflow.python.keras import optimizers\n",
    "import time\n"
   ]
  },
  {
   "cell_type": "code",
   "execution_count": 339,
   "id": "9b107c99",
   "metadata": {},
   "outputs": [],
   "source": [
    "def creat_dataset(dataset, look_back=1):  # look_back表示用当前项的前look_back项预测当前1项\n",
    "    dataX, dataY = [], []\n",
    "    for i in range(len(dataset)-look_back):\n",
    "        a = dataset[i: (i+look_back)]\n",
    "        dataX.append(a)\n",
    "        dataY.append(dataset[i+look_back])\n",
    "    return np.array(dataX), np.array(dataY)\n"
   ]
  },
  {
   "cell_type": "code",
   "execution_count": 340,
   "id": "61623a55",
   "metadata": {},
   "outputs": [
    {
     "data": {
      "text/html": [
       "<div>\n",
       "<style scoped>\n",
       "    .dataframe tbody tr th:only-of-type {\n",
       "        vertical-align: middle;\n",
       "    }\n",
       "\n",
       "    .dataframe tbody tr th {\n",
       "        vertical-align: top;\n",
       "    }\n",
       "\n",
       "    .dataframe thead th {\n",
       "        text-align: right;\n",
       "    }\n",
       "</style>\n",
       "<table border=\"1\" class=\"dataframe\">\n",
       "  <thead>\n",
       "    <tr style=\"text-align: right;\">\n",
       "      <th></th>\n",
       "      <th>Date</th>\n",
       "      <th>Open</th>\n",
       "      <th>High</th>\n",
       "      <th>Low</th>\n",
       "      <th>Close</th>\n",
       "      <th>Adj Close</th>\n",
       "      <th>Volume</th>\n",
       "    </tr>\n",
       "  </thead>\n",
       "  <tbody>\n",
       "    <tr>\n",
       "      <th>0</th>\n",
       "      <td>2018-01-01</td>\n",
       "      <td>14112.200195</td>\n",
       "      <td>14112.200195</td>\n",
       "      <td>13154.700195</td>\n",
       "      <td>13657.200195</td>\n",
       "      <td>13657.200195</td>\n",
       "      <td>10291200000</td>\n",
       "    </tr>\n",
       "    <tr>\n",
       "      <th>1</th>\n",
       "      <td>2018-01-02</td>\n",
       "      <td>13625.000000</td>\n",
       "      <td>15444.599609</td>\n",
       "      <td>13163.599609</td>\n",
       "      <td>14982.099609</td>\n",
       "      <td>14982.099609</td>\n",
       "      <td>16846600192</td>\n",
       "    </tr>\n",
       "    <tr>\n",
       "      <th>2</th>\n",
       "      <td>2018-01-03</td>\n",
       "      <td>14978.200195</td>\n",
       "      <td>15572.799805</td>\n",
       "      <td>14844.500000</td>\n",
       "      <td>15201.000000</td>\n",
       "      <td>15201.000000</td>\n",
       "      <td>16871900160</td>\n",
       "    </tr>\n",
       "    <tr>\n",
       "      <th>3</th>\n",
       "      <td>2018-01-04</td>\n",
       "      <td>15270.700195</td>\n",
       "      <td>15739.700195</td>\n",
       "      <td>14522.200195</td>\n",
       "      <td>15599.200195</td>\n",
       "      <td>15599.200195</td>\n",
       "      <td>21783199744</td>\n",
       "    </tr>\n",
       "    <tr>\n",
       "      <th>4</th>\n",
       "      <td>2018-01-05</td>\n",
       "      <td>15477.200195</td>\n",
       "      <td>17705.199219</td>\n",
       "      <td>15202.799805</td>\n",
       "      <td>17429.500000</td>\n",
       "      <td>17429.500000</td>\n",
       "      <td>23840899072</td>\n",
       "    </tr>\n",
       "    <tr>\n",
       "      <th>...</th>\n",
       "      <td>...</td>\n",
       "      <td>...</td>\n",
       "      <td>...</td>\n",
       "      <td>...</td>\n",
       "      <td>...</td>\n",
       "      <td>...</td>\n",
       "      <td>...</td>\n",
       "    </tr>\n",
       "    <tr>\n",
       "      <th>1457</th>\n",
       "      <td>2021-12-28</td>\n",
       "      <td>50679.859375</td>\n",
       "      <td>50679.859375</td>\n",
       "      <td>47414.210938</td>\n",
       "      <td>47588.855469</td>\n",
       "      <td>47588.855469</td>\n",
       "      <td>33430376883</td>\n",
       "    </tr>\n",
       "    <tr>\n",
       "      <th>1458</th>\n",
       "      <td>2021-12-29</td>\n",
       "      <td>47623.871094</td>\n",
       "      <td>48119.742188</td>\n",
       "      <td>46201.496094</td>\n",
       "      <td>46444.710938</td>\n",
       "      <td>46444.710938</td>\n",
       "      <td>30049226299</td>\n",
       "    </tr>\n",
       "    <tr>\n",
       "      <th>1459</th>\n",
       "      <td>2021-12-30</td>\n",
       "      <td>46490.605469</td>\n",
       "      <td>47879.964844</td>\n",
       "      <td>46060.312500</td>\n",
       "      <td>47178.125000</td>\n",
       "      <td>47178.125000</td>\n",
       "      <td>26686491018</td>\n",
       "    </tr>\n",
       "    <tr>\n",
       "      <th>1460</th>\n",
       "      <td>2021-12-31</td>\n",
       "      <td>47169.371094</td>\n",
       "      <td>48472.527344</td>\n",
       "      <td>45819.953125</td>\n",
       "      <td>46306.445313</td>\n",
       "      <td>46306.445313</td>\n",
       "      <td>36974172400</td>\n",
       "    </tr>\n",
       "    <tr>\n",
       "      <th>1461</th>\n",
       "      <td>2022-01-01</td>\n",
       "      <td>46311.746094</td>\n",
       "      <td>47827.312500</td>\n",
       "      <td>46288.484375</td>\n",
       "      <td>47686.812500</td>\n",
       "      <td>47686.812500</td>\n",
       "      <td>24582667004</td>\n",
       "    </tr>\n",
       "  </tbody>\n",
       "</table>\n",
       "<p>1462 rows × 7 columns</p>\n",
       "</div>"
      ],
      "text/plain": [
       "           Date          Open          High           Low         Close  \\\n",
       "0    2018-01-01  14112.200195  14112.200195  13154.700195  13657.200195   \n",
       "1    2018-01-02  13625.000000  15444.599609  13163.599609  14982.099609   \n",
       "2    2018-01-03  14978.200195  15572.799805  14844.500000  15201.000000   \n",
       "3    2018-01-04  15270.700195  15739.700195  14522.200195  15599.200195   \n",
       "4    2018-01-05  15477.200195  17705.199219  15202.799805  17429.500000   \n",
       "...         ...           ...           ...           ...           ...   \n",
       "1457 2021-12-28  50679.859375  50679.859375  47414.210938  47588.855469   \n",
       "1458 2021-12-29  47623.871094  48119.742188  46201.496094  46444.710938   \n",
       "1459 2021-12-30  46490.605469  47879.964844  46060.312500  47178.125000   \n",
       "1460 2021-12-31  47169.371094  48472.527344  45819.953125  46306.445313   \n",
       "1461 2022-01-01  46311.746094  47827.312500  46288.484375  47686.812500   \n",
       "\n",
       "         Adj Close       Volume  \n",
       "0     13657.200195  10291200000  \n",
       "1     14982.099609  16846600192  \n",
       "2     15201.000000  16871900160  \n",
       "3     15599.200195  21783199744  \n",
       "4     17429.500000  23840899072  \n",
       "...            ...          ...  \n",
       "1457  47588.855469  33430376883  \n",
       "1458  46444.710938  30049226299  \n",
       "1459  47178.125000  26686491018  \n",
       "1460  46306.445313  36974172400  \n",
       "1461  47686.812500  24582667004  \n",
       "\n",
       "[1462 rows x 7 columns]"
      ]
     },
     "execution_count": 340,
     "metadata": {},
     "output_type": "execute_result"
    }
   ],
   "source": [
    "dataframe = pd.read_excel('updatedDataset.xlsx',sheet_name = 'BTC-USD')\n",
    "dataframe"
   ]
  },
  {
   "cell_type": "code",
   "execution_count": 341,
   "id": "88a0568e",
   "metadata": {},
   "outputs": [],
   "source": [
    "dataframe = dataframe.iloc[:,[0,4]]"
   ]
  },
  {
   "cell_type": "code",
   "execution_count": 342,
   "id": "9c068b9d",
   "metadata": {},
   "outputs": [
    {
     "data": {
      "text/html": [
       "<div>\n",
       "<style scoped>\n",
       "    .dataframe tbody tr th:only-of-type {\n",
       "        vertical-align: middle;\n",
       "    }\n",
       "\n",
       "    .dataframe tbody tr th {\n",
       "        vertical-align: top;\n",
       "    }\n",
       "\n",
       "    .dataframe thead th {\n",
       "        text-align: right;\n",
       "    }\n",
       "</style>\n",
       "<table border=\"1\" class=\"dataframe\">\n",
       "  <thead>\n",
       "    <tr style=\"text-align: right;\">\n",
       "      <th></th>\n",
       "      <th>Date</th>\n",
       "      <th>Close</th>\n",
       "    </tr>\n",
       "  </thead>\n",
       "  <tbody>\n",
       "    <tr>\n",
       "      <th>0</th>\n",
       "      <td>2018-01-01</td>\n",
       "      <td>13657.200195</td>\n",
       "    </tr>\n",
       "    <tr>\n",
       "      <th>1</th>\n",
       "      <td>2018-01-02</td>\n",
       "      <td>14982.099609</td>\n",
       "    </tr>\n",
       "    <tr>\n",
       "      <th>2</th>\n",
       "      <td>2018-01-03</td>\n",
       "      <td>15201.000000</td>\n",
       "    </tr>\n",
       "    <tr>\n",
       "      <th>3</th>\n",
       "      <td>2018-01-04</td>\n",
       "      <td>15599.200195</td>\n",
       "    </tr>\n",
       "    <tr>\n",
       "      <th>4</th>\n",
       "      <td>2018-01-05</td>\n",
       "      <td>17429.500000</td>\n",
       "    </tr>\n",
       "    <tr>\n",
       "      <th>...</th>\n",
       "      <td>...</td>\n",
       "      <td>...</td>\n",
       "    </tr>\n",
       "    <tr>\n",
       "      <th>1457</th>\n",
       "      <td>2021-12-28</td>\n",
       "      <td>47588.855469</td>\n",
       "    </tr>\n",
       "    <tr>\n",
       "      <th>1458</th>\n",
       "      <td>2021-12-29</td>\n",
       "      <td>46444.710938</td>\n",
       "    </tr>\n",
       "    <tr>\n",
       "      <th>1459</th>\n",
       "      <td>2021-12-30</td>\n",
       "      <td>47178.125000</td>\n",
       "    </tr>\n",
       "    <tr>\n",
       "      <th>1460</th>\n",
       "      <td>2021-12-31</td>\n",
       "      <td>46306.445313</td>\n",
       "    </tr>\n",
       "    <tr>\n",
       "      <th>1461</th>\n",
       "      <td>2022-01-01</td>\n",
       "      <td>47686.812500</td>\n",
       "    </tr>\n",
       "  </tbody>\n",
       "</table>\n",
       "<p>1462 rows × 2 columns</p>\n",
       "</div>"
      ],
      "text/plain": [
       "           Date         Close\n",
       "0    2018-01-01  13657.200195\n",
       "1    2018-01-02  14982.099609\n",
       "2    2018-01-03  15201.000000\n",
       "3    2018-01-04  15599.200195\n",
       "4    2018-01-05  17429.500000\n",
       "...         ...           ...\n",
       "1457 2021-12-28  47588.855469\n",
       "1458 2021-12-29  46444.710938\n",
       "1459 2021-12-30  47178.125000\n",
       "1460 2021-12-31  46306.445313\n",
       "1461 2022-01-01  47686.812500\n",
       "\n",
       "[1462 rows x 2 columns]"
      ]
     },
     "execution_count": 342,
     "metadata": {},
     "output_type": "execute_result"
    }
   ],
   "source": [
    "dataframe"
   ]
  },
  {
   "cell_type": "code",
   "execution_count": 343,
   "id": "829f08c5",
   "metadata": {},
   "outputs": [
    {
     "data": {
      "text/plain": [
       "array([[Timestamp('2018-01-01 00:00:00'), 13657.200195],\n",
       "       [Timestamp('2018-01-02 00:00:00'), 14982.099609],\n",
       "       [Timestamp('2018-01-03 00:00:00'), 15201.0],\n",
       "       ...,\n",
       "       [Timestamp('2021-12-30 00:00:00'), 47178.125],\n",
       "       [Timestamp('2021-12-31 00:00:00'), 46306.445313],\n",
       "       [Timestamp('2022-01-01 00:00:00'), 47686.8125]], dtype=object)"
      ]
     },
     "execution_count": 343,
     "metadata": {},
     "output_type": "execute_result"
    }
   ],
   "source": [
    "dataset = dataframe.values\n",
    "dataset"
   ]
  },
  {
   "cell_type": "code",
   "execution_count": 344,
   "id": "ac2095b7",
   "metadata": {},
   "outputs": [],
   "source": [
    "scaler = MinMaxScaler(feature_range=(0, 1))\n",
    "dataset = scaler.fit_transform(dataset[:,1].reshape(-1, 1))\n",
    "# 时间序列不需要显式的时间标签，只需要一个数值组成的序列即可"
   ]
  },
  {
   "cell_type": "code",
   "execution_count": 345,
   "id": "8c5b4ece",
   "metadata": {},
   "outputs": [
    {
     "data": {
      "text/plain": [
       "array([[0.16198395],\n",
       "       [0.18257929],\n",
       "       [0.18598206],\n",
       "       ...,\n",
       "       [0.68306106],\n",
       "       [0.66951095],\n",
       "       [0.69096852]])"
      ]
     },
     "execution_count": 345,
     "metadata": {},
     "output_type": "execute_result"
    }
   ],
   "source": [
    "dataset"
   ]
  },
  {
   "cell_type": "code",
   "execution_count": 346,
   "id": "15d71cff",
   "metadata": {},
   "outputs": [],
   "source": [
    "train_size = int(len(dataset)*0.85)\n",
    "test_size = len(dataset)-train_size\n",
    "train, test = dataset[0: train_size], dataset[train_size: len(dataset)]"
   ]
  },
  {
   "cell_type": "code",
   "execution_count": 347,
   "id": "809d3ac7",
   "metadata": {},
   "outputs": [],
   "source": [
    "look_back = 5\n",
    "trainX, trainY = creat_dataset(train, look_back)\n",
    "testX, testY = creat_dataset(test, look_back)"
   ]
  },
  {
   "cell_type": "code",
   "execution_count": 348,
   "id": "a0e146c0",
   "metadata": {},
   "outputs": [
    {
     "data": {
      "text/plain": [
       "(1237, 5, 1)"
      ]
     },
     "execution_count": 348,
     "metadata": {},
     "output_type": "execute_result"
    }
   ],
   "source": [
    "trainX.shape  # 第一个是样本总数，第二个是每一个样本中的时间序列的长度，第三个是每一个时间序列中的每一个元素的编码长度"
   ]
  },
  {
   "cell_type": "code",
   "execution_count": 349,
   "id": "d22a9c8e",
   "metadata": {},
   "outputs": [
    {
     "name": "stdout",
     "output_type": "stream",
     "text": [
      "_________________________________________________________________\n",
      "Layer (type)                 Output Shape              Param #   \n",
      "=================================================================\n",
      "lstm_23 (LSTM)               (None, 100)               40800     \n",
      "_________________________________________________________________\n",
      "dropout_11 (Dropout)         (None, 100)               0         \n",
      "_________________________________________________________________\n",
      "dense_23 (Dense)             (None, 100)               10100     \n",
      "_________________________________________________________________\n",
      "dense_24 (Dense)             (None, 1)                 101       \n",
      "_________________________________________________________________\n",
      "activation_12 (Activation)   (None, 1)                 0         \n",
      "=================================================================\n",
      "Total params: 51,001\n",
      "Trainable params: 51,001\n",
      "Non-trainable params: 0\n",
      "_________________________________________________________________\n"
     ]
    }
   ],
   "source": [
    "model = Sequential()\n",
    "\n",
    "model.add(LSTM(100, input_shape=(trainX.shape[1],trainX.shape[2])))\n",
    "#model.add(Dropout(0.2))\n",
    "\n",
    "# model.add(LSTM(100, return_sequences=False))\n",
    "# #model.add(Dropout(0.2))\n",
    "\n",
    "# model.add(LSTM(200, return_sequences=True))\n",
    "# #model.add(Dropout(0.2))\n",
    "\n",
    "# model.add(LSTM(300, return_sequences=False))\n",
    "model.add(Dropout(0.2))\n",
    "\n",
    "model.add(Dense(100))\n",
    "model.add(Dense(1))\n",
    "\n",
    "model.add(Activation('relu'))\n",
    "start = time.time()\n",
    "model.compile(loss='mean_squared_error', optimizer='Adam')\n",
    "model.summary()\n"
   ]
  },
  {
   "cell_type": "code",
   "execution_count": 350,
   "id": "e0698d51",
   "metadata": {},
   "outputs": [
    {
     "name": "stdout",
     "output_type": "stream",
     "text": [
      "WARNING:tensorflow:The `nb_epoch` argument in `fit` has been renamed `epochs`.\n",
      "Train on 1113 samples, validate on 124 samples\n",
      "Epoch 1/50\n",
      " - 7s - loss: 0.0036 - val_loss: 0.0073\n",
      "Epoch 2/50\n",
      " - 0s - loss: 2.7038e-04 - val_loss: 0.0100\n",
      "Epoch 3/50\n",
      " - 0s - loss: 2.4225e-04 - val_loss: 0.0022\n",
      "Epoch 4/50\n",
      " - 0s - loss: 1.6246e-04 - val_loss: 0.0026\n",
      "Epoch 5/50\n",
      " - 0s - loss: 1.7505e-04 - val_loss: 0.0026\n",
      "Epoch 6/50\n",
      " - 0s - loss: 1.5445e-04 - val_loss: 0.0040\n",
      "Epoch 7/50\n",
      " - 0s - loss: 1.7053e-04 - val_loss: 0.0022\n",
      "Epoch 8/50\n",
      " - 0s - loss: 1.4548e-04 - val_loss: 0.0023\n",
      "Epoch 9/50\n",
      " - 0s - loss: 1.3179e-04 - val_loss: 0.0028\n",
      "Epoch 10/50\n",
      " - 0s - loss: 1.9806e-04 - val_loss: 0.0026\n",
      "Epoch 11/50\n",
      " - 0s - loss: 1.7856e-04 - val_loss: 0.0023\n",
      "Epoch 12/50\n",
      " - 0s - loss: 1.4311e-04 - val_loss: 0.0027\n",
      "Epoch 13/50\n",
      " - 0s - loss: 1.5714e-04 - val_loss: 0.0027\n",
      "Epoch 14/50\n",
      " - 0s - loss: 1.5991e-04 - val_loss: 0.0033\n",
      "Epoch 15/50\n",
      " - 0s - loss: 1.3183e-04 - val_loss: 0.0019\n",
      "Epoch 16/50\n",
      " - 0s - loss: 1.0909e-04 - val_loss: 0.0022\n",
      "Epoch 17/50\n",
      " - 0s - loss: 1.5317e-04 - val_loss: 0.0019\n",
      "Epoch 18/50\n",
      " - 0s - loss: 1.5886e-04 - val_loss: 0.0054\n",
      "Epoch 19/50\n",
      " - 0s - loss: 1.3439e-04 - val_loss: 0.0026\n",
      "Epoch 20/50\n",
      " - 0s - loss: 1.2183e-04 - val_loss: 0.0018\n",
      "Epoch 21/50\n",
      " - 0s - loss: 1.2706e-04 - val_loss: 0.0056\n",
      "Epoch 22/50\n",
      " - 0s - loss: 1.3890e-04 - val_loss: 0.0019\n",
      "Epoch 23/50\n",
      " - 0s - loss: 1.4543e-04 - val_loss: 0.0019\n",
      "Epoch 24/50\n",
      " - 0s - loss: 1.2754e-04 - val_loss: 0.0025\n",
      "Epoch 25/50\n",
      " - 0s - loss: 9.9693e-05 - val_loss: 0.0037\n",
      "Epoch 26/50\n",
      " - 0s - loss: 1.5701e-04 - val_loss: 0.0021\n",
      "Epoch 27/50\n",
      " - 0s - loss: 1.1942e-04 - val_loss: 0.0040\n",
      "Epoch 28/50\n",
      " - 0s - loss: 1.5671e-04 - val_loss: 0.0021\n",
      "Epoch 29/50\n",
      " - 0s - loss: 1.2725e-04 - val_loss: 0.0018\n",
      "Epoch 30/50\n",
      " - 0s - loss: 1.2019e-04 - val_loss: 0.0026\n",
      "Epoch 31/50\n",
      " - 0s - loss: 1.3007e-04 - val_loss: 0.0016\n",
      "Epoch 32/50\n",
      " - 0s - loss: 1.0512e-04 - val_loss: 0.0027\n",
      "Epoch 33/50\n",
      " - 0s - loss: 1.1250e-04 - val_loss: 0.0025\n",
      "Epoch 34/50\n",
      " - 0s - loss: 1.2840e-04 - val_loss: 0.0028\n",
      "Epoch 35/50\n",
      " - 0s - loss: 1.7680e-04 - val_loss: 0.0015\n",
      "Epoch 36/50\n",
      " - 0s - loss: 1.5182e-04 - val_loss: 0.0032\n",
      "Epoch 37/50\n",
      " - 0s - loss: 8.8990e-05 - val_loss: 0.0015\n",
      "Epoch 38/50\n",
      " - 0s - loss: 9.5924e-05 - val_loss: 0.0018\n",
      "Epoch 39/50\n",
      " - 0s - loss: 9.6625e-05 - val_loss: 0.0020\n",
      "Epoch 40/50\n",
      " - 0s - loss: 1.1490e-04 - val_loss: 0.0025\n",
      "Epoch 41/50\n",
      " - 0s - loss: 1.0534e-04 - val_loss: 0.0015\n",
      "Epoch 42/50\n",
      " - 0s - loss: 9.4705e-05 - val_loss: 0.0016\n",
      "Epoch 43/50\n",
      " - 0s - loss: 1.0137e-04 - val_loss: 0.0016\n",
      "Epoch 44/50\n",
      " - 0s - loss: 9.6678e-05 - val_loss: 0.0014\n",
      "Epoch 45/50\n",
      " - 0s - loss: 1.1376e-04 - val_loss: 0.0015\n",
      "Epoch 46/50\n",
      " - 0s - loss: 9.1727e-05 - val_loss: 0.0015\n",
      "Epoch 47/50\n",
      " - 0s - loss: 9.7267e-05 - val_loss: 0.0014\n",
      "Epoch 48/50\n",
      " - 0s - loss: 8.5166e-05 - val_loss: 0.0014\n",
      "Epoch 49/50\n",
      " - 0s - loss: 1.1514e-04 - val_loss: 0.0014\n",
      "Epoch 50/50\n",
      " - 0s - loss: 1.0160e-04 - val_loss: 0.0014\n",
      "compilatiom time: 16.38739013671875\n"
     ]
    }
   ],
   "source": [
    "history = model.fit(trainX, trainY, batch_size=64, nb_epoch=50, \n",
    "                    validation_split=0.1, verbose=2)\n",
    "print('compilatiom time:', time.time()-start)"
   ]
  },
  {
   "cell_type": "code",
   "execution_count": 351,
   "id": "d93f0c9a",
   "metadata": {},
   "outputs": [],
   "source": [
    "trainPredict = model.predict(trainX)\n",
    "testPredict = model.predict(testX)"
   ]
  },
  {
   "cell_type": "code",
   "execution_count": 352,
   "id": "ebc582f8",
   "metadata": {},
   "outputs": [
    {
     "data": {
      "text/plain": [
       "array([[0.21277064],\n",
       "       [0.22266564],\n",
       "       [0.21746454],\n",
       "       ...,\n",
       "       [0.5197724 ],\n",
       "       [0.5414824 ],\n",
       "       [0.55074674]], dtype=float32)"
      ]
     },
     "execution_count": 352,
     "metadata": {},
     "output_type": "execute_result"
    }
   ],
   "source": [
    "trainPredict"
   ]
  },
  {
   "cell_type": "code",
   "execution_count": 353,
   "id": "0484b08d",
   "metadata": {},
   "outputs": [
    {
     "data": {
      "text/plain": [
       "array([[0.22213934],\n",
       "       [0.20582659],\n",
       "       [0.18550172],\n",
       "       ...,\n",
       "       [0.55136301],\n",
       "       [0.54664114],\n",
       "       [0.56050677]])"
      ]
     },
     "execution_count": 353,
     "metadata": {},
     "output_type": "execute_result"
    }
   ],
   "source": [
    "trainY"
   ]
  },
  {
   "cell_type": "code",
   "execution_count": 354,
   "id": "09b999ba",
   "metadata": {},
   "outputs": [],
   "source": [
    "trainPredict = scaler.inverse_transform(trainPredict)\n",
    "trainY = scaler.inverse_transform(trainY)\n",
    "testPredict = scaler.inverse_transform(testPredict)\n",
    "testY = scaler.inverse_transform(testY)"
   ]
  },
  {
   "cell_type": "code",
   "execution_count": 355,
   "id": "1c944f11",
   "metadata": {},
   "outputs": [
    {
     "data": {
      "text/plain": [
       "(1237, 1)"
      ]
     },
     "execution_count": 355,
     "metadata": {},
     "output_type": "execute_result"
    }
   ],
   "source": [
    "trainPredict.shape"
   ]
  },
  {
   "cell_type": "code",
   "execution_count": 356,
   "id": "030fdbde",
   "metadata": {},
   "outputs": [
    {
     "data": {
      "text/plain": [
       "(1237, 1)"
      ]
     },
     "execution_count": 356,
     "metadata": {},
     "output_type": "execute_result"
    }
   ],
   "source": [
    "trainY.shape"
   ]
  },
  {
   "cell_type": "code",
   "execution_count": 357,
   "id": "de51e27e",
   "metadata": {},
   "outputs": [
    {
     "data": {
      "text/plain": [
       "(215, 1)"
      ]
     },
     "execution_count": 357,
     "metadata": {},
     "output_type": "execute_result"
    }
   ],
   "source": [
    "testPredict.shape"
   ]
  },
  {
   "cell_type": "code",
   "execution_count": 358,
   "id": "62a86e27",
   "metadata": {},
   "outputs": [
    {
     "data": {
      "text/plain": [
       "(215, 1)"
      ]
     },
     "execution_count": 358,
     "metadata": {},
     "output_type": "execute_result"
    }
   ],
   "source": [
    "testY.shape"
   ]
  },
  {
   "cell_type": "code",
   "execution_count": 359,
   "id": "1256a939",
   "metadata": {},
   "outputs": [
    {
     "data": {
      "image/png": "[encoded data removed]",
      "text/plain": [
       "<Figure size 864x576 with 1 Axes>"
      ]
     },
     "metadata": {
      "needs_background": "light"
     },
     "output_type": "display_data"
    }
   ],
   "source": [
    "fig1 = plt.figure(figsize=(12, 8))\n",
    "plt.plot(history.history['loss'])\n",
    "plt.title('model loss')\n",
    "plt.ylabel('loss')\n",
    "plt.xlabel('epoch')\n",
    "plt.show()"
   ]
  },
  {
   "cell_type": "code",
   "execution_count": 360,
   "id": "4890ce9b",
   "metadata": {},
   "outputs": [],
   "source": [
    "trainPredictPlot = np.zeros(shape=dataset.shape)\n",
    "trainPredictPlot[:,:] = np.nan\n",
    "trainPredictPlot = np.reshape(trainPredictPlot, (dataset.shape[0], 1))\n",
    "# 使用之前的look_back+1个的数据预测当前的1个数据，所以从第look_back+1个才开始预测\n",
    "trainPredictPlot[look_back: len(trainPredict)+look_back, :] = trainPredict"
   ]
  },
  {
   "cell_type": "code",
   "execution_count": 361,
   "id": "7938d299",
   "metadata": {},
   "outputs": [],
   "source": [
    "testPredictPlot = np.zeros(shape=dataset.shape)\n",
    "testPredictPlot[:,:] = np.nan\n",
    "testPredictPlot = np.reshape(testPredictPlot, (dataset.shape[0], 1))\n",
    "testPredictPlot[(len(trainPredict)+look_back)+look_back: len(dataset), :] = testPredict"
   ]
  },
  {
   "cell_type": "code",
   "execution_count": 362,
   "id": "ce0e3004",
   "metadata": {},
   "outputs": [
    {
     "data": {
      "text/plain": [
       "array([[0.16198395],\n",
       "       [0.18257929],\n",
       "       [0.18598206],\n",
       "       ...,\n",
       "       [0.68306106],\n",
       "       [0.66951095],\n",
       "       [0.69096852]])"
      ]
     },
     "execution_count": 362,
     "metadata": {},
     "output_type": "execute_result"
    }
   ],
   "source": [
    "dataset"
   ]
  },
  {
   "cell_type": "code",
   "execution_count": 363,
   "id": "4a8beee1",
   "metadata": {},
   "outputs": [
    {
     "data": {
      "text/plain": [
       "array([[13657.200195],\n",
       "       [14982.099609],\n",
       "       [15201.      ],\n",
       "       ...,\n",
       "       [47178.125   ],\n",
       "       [46306.445313],\n",
       "       [47686.8125  ]])"
      ]
     },
     "execution_count": 363,
     "metadata": {},
     "output_type": "execute_result"
    }
   ],
   "source": [
    "dataset = scaler.inverse_transform(dataset)\n",
    "dataset"
   ]
  },
  {
   "cell_type": "code",
   "execution_count": 364,
   "id": "866a021e",
   "metadata": {},
   "outputs": [
    {
     "data": {
      "text/plain": [
       "<matplotlib.legend.Legend at 0x24c93c007f0>"
      ]
     },
     "execution_count": 364,
     "metadata": {},
     "output_type": "execute_result"
    },
    {
     "data": {
      "image/png": "[encoded data removed]",
      "text/plain": [
       "<Figure size 432x288 with 1 Axes>"
      ]
     },
     "metadata": {
      "needs_background": "light"
     },
     "output_type": "display_data"
    }
   ],
   "source": [
    "plt.plot(dataset,label = 'actual data')\n",
    "plt.plot(trainPredictPlot,label = 'train prediction')\n",
    "plt.plot(testPredictPlot,label = 'test prediction')\n",
    "plt.legend()"
   ]
  },
  {
   "cell_type": "code",
   "execution_count": 365,
   "id": "aeeb6bad",
   "metadata": {},
   "outputs": [],
   "source": [
    "# sum_t = 0\n",
    "# testY = testY.reshape(-1,)\n",
    "# testPredict = testPredict.reshape(-1,)\n",
    "# print(testY.shape)\n",
    "# print(testPredict.shape)\n",
    "# for i in range(len(testY)):\n",
    "#     testY[i] = testY[i] / (max(testY) - min(testY))\n",
    "#     testPredict[i] = testPredict[i] / (max(testPredict) - min(testPredict))\n",
    "# for i in range(len(testY)):\n",
    "#     sum_t += (testPredict[i] - testY[i])**2\n",
    "# rmse = (sum_t / len(testPredict))**0.5\n",
    "# rmse"
   ]
  },
  {
   "cell_type": "code",
   "execution_count": 366,
   "id": "9b97c4e0",
   "metadata": {},
   "outputs": [
    {
     "data": {
      "text/plain": [
       "1880.7490901853307"
      ]
     },
     "execution_count": 366,
     "metadata": {},
     "output_type": "execute_result"
    }
   ],
   "source": [
    "import numpy as np\n",
    "from sklearn.metrics import mean_squared_error #MSE\n",
    "from sklearn.metrics import mean_absolute_error #MAE\n",
    "from sklearn.metrics import r2_score#R 2\n",
    "#调用\n",
    "\n",
    "# mean_absolute_error(testY,testPredict)\n",
    "np.sqrt(mean_squared_error(testY,testPredict))  # RMSE就是对MSE开方即可\n",
    "\n"
   ]
  },
  {
   "cell_type": "code",
   "execution_count": 367,
   "id": "6a5303ab",
   "metadata": {},
   "outputs": [
    {
     "data": {
      "text/plain": [
       "0.9630563000425713"
      ]
     },
     "execution_count": 367,
     "metadata": {},
     "output_type": "execute_result"
    }
   ],
   "source": [
    "r2_score(testY,testPredict)"
   ]
  },
  {
   "cell_type": "code",
   "execution_count": 368,
   "id": "98ff8886",
   "metadata": {},
   "outputs": [
    {
     "data": {
      "text/plain": [
       "3.2154105518745535"
      ]
     },
     "execution_count": 368,
     "metadata": {},
     "output_type": "execute_result"
    }
   ],
   "source": [
    "#  MAPE和SMAPE\n",
    "def mape(y_true, y_pred):\n",
    "    return np.mean(np.abs((y_pred - y_true) / y_true)) * 100\n",
    "\n",
    "def smape(y_true, y_pred):\n",
    "    return 2.0 * np.mean(np.abs(y_pred - y_true) / (np.abs(y_pred) + np.abs(y_true))) * 100\n",
    "\n",
    "#  调用\n",
    "mape(testY, testPredict)\n"
   ]
  },
  {
   "cell_type": "code",
   "execution_count": null,
   "id": "40a238ad",
   "metadata": {},
   "outputs": [],
   "source": []
  }
 ],
 "metadata": {
  "kernelspec": {
   "display_name": "Python 3",
   "language": "python",
   "name": "python3"
  },
  "language_info": {
   "codemirror_mode": {
    "name": "ipython",
    "version": 3
   },
   "file_extension": ".py",
   "mimetype": "text/x-python",
   "name": "python",
   "nbconvert_exporter": "python",
   "pygments_lexer": "ipython3",
   "version": "3.6.2"
  }
 },
 "nbformat": 4,
 "nbformat_minor": 5
}
