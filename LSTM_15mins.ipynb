{
 "cells": [
  {
   "cell_type": "code",
   "execution_count": 346,
   "id": "ed53578a",
   "metadata": {},
   "outputs": [],
   "source": [
    "import numpy as np\n",
    "import matplotlib.pyplot as plt\n",
    "import pandas as pd\n",
    "import math\n",
    "from tensorflow.python.keras.models import Sequential\n",
    "from tensorflow.python.keras.layers import Dense, Activation, Dropout, LSTM\n",
    "from sklearn.preprocessing import MinMaxScaler\n",
    "from sklearn.metrics import mean_squared_error\n",
    "from tensorflow.python.keras import optimizers\n",
    "import time\n"
   ]
  },
  {
   "cell_type": "code",
   "execution_count": 347,
   "id": "9b107c99",
   "metadata": {},
   "outputs": [],
   "source": [
    "def creat_dataset(dataset, look_back=1):  # look_back表示用当前项的前look_back项预测当前1项\n",
    "    dataX, dataY = [], []\n",
    "    for i in range(len(dataset)-look_back):\n",
    "        a = dataset[i: (i+look_back)]\n",
    "        dataX.append(a)\n",
    "        dataY.append(dataset[i+look_back])\n",
    "    return np.array(dataX), np.array(dataY)\n"
   ]
  },
  {
   "cell_type": "code",
   "execution_count": 348,
   "id": "61623a55",
   "metadata": {},
   "outputs": [
    {
     "data": {
      "text/html": [
       "<div>\n",
       "<style scoped>\n",
       "    .dataframe tbody tr th:only-of-type {\n",
       "        vertical-align: middle;\n",
       "    }\n",
       "\n",
       "    .dataframe tbody tr th {\n",
       "        vertical-align: top;\n",
       "    }\n",
       "\n",
       "    .dataframe thead th {\n",
       "        text-align: right;\n",
       "    }\n",
       "</style>\n",
       "<table border=\"1\" class=\"dataframe\">\n",
       "  <thead>\n",
       "    <tr style=\"text-align: right;\">\n",
       "      <th></th>\n",
       "      <th>Close</th>\n",
       "      <th>Timestamp</th>\n",
       "      <th>High</th>\n",
       "      <th>Low</th>\n",
       "      <th>Open</th>\n",
       "    </tr>\n",
       "  </thead>\n",
       "  <tbody>\n",
       "    <tr>\n",
       "      <th>0</th>\n",
       "      <td>28650.166249</td>\n",
       "      <td>1609430400</td>\n",
       "      <td>28813.590185</td>\n",
       "      <td>28626.723157</td>\n",
       "      <td>28774.071184</td>\n",
       "    </tr>\n",
       "    <tr>\n",
       "      <th>1</th>\n",
       "      <td>28634.955332</td>\n",
       "      <td>1609431300</td>\n",
       "      <td>28732.627836</td>\n",
       "      <td>28564.100414</td>\n",
       "      <td>28649.166278</td>\n",
       "    </tr>\n",
       "    <tr>\n",
       "      <th>2</th>\n",
       "      <td>28463.313750</td>\n",
       "      <td>1609432200</td>\n",
       "      <td>28681.998007</td>\n",
       "      <td>28463.313750</td>\n",
       "      <td>28645.891128</td>\n",
       "    </tr>\n",
       "    <tr>\n",
       "      <th>3</th>\n",
       "      <td>28384.280723</td>\n",
       "      <td>1609433100</td>\n",
       "      <td>28559.132322</td>\n",
       "      <td>28315.100000</td>\n",
       "      <td>28475.530204</td>\n",
       "    </tr>\n",
       "    <tr>\n",
       "      <th>4</th>\n",
       "      <td>28566.108762</td>\n",
       "      <td>1609434000</td>\n",
       "      <td>28566.108762</td>\n",
       "      <td>28375.256962</td>\n",
       "      <td>28375.447293</td>\n",
       "    </tr>\n",
       "    <tr>\n",
       "      <th>...</th>\n",
       "      <td>...</td>\n",
       "      <td>...</td>\n",
       "      <td>...</td>\n",
       "      <td>...</td>\n",
       "      <td>...</td>\n",
       "    </tr>\n",
       "    <tr>\n",
       "      <th>17372</th>\n",
       "      <td>34354.164427</td>\n",
       "      <td>1625065200</td>\n",
       "      <td>34623.021577</td>\n",
       "      <td>34170.967936</td>\n",
       "      <td>34592.105918</td>\n",
       "    </tr>\n",
       "    <tr>\n",
       "      <th>17373</th>\n",
       "      <td>34300.000000</td>\n",
       "      <td>1625066100</td>\n",
       "      <td>34365.355328</td>\n",
       "      <td>34168.270400</td>\n",
       "      <td>34347.000000</td>\n",
       "    </tr>\n",
       "    <tr>\n",
       "      <th>17374</th>\n",
       "      <td>34162.600444</td>\n",
       "      <td>1625067000</td>\n",
       "      <td>34351.545530</td>\n",
       "      <td>34153.266013</td>\n",
       "      <td>34293.792362</td>\n",
       "    </tr>\n",
       "    <tr>\n",
       "      <th>17375</th>\n",
       "      <td>34196.414584</td>\n",
       "      <td>1625067900</td>\n",
       "      <td>34299.000000</td>\n",
       "      <td>34082.400478</td>\n",
       "      <td>34169.499925</td>\n",
       "    </tr>\n",
       "    <tr>\n",
       "      <th>17376</th>\n",
       "      <td>34206.689288</td>\n",
       "      <td>1625068800</td>\n",
       "      <td>34289.707557</td>\n",
       "      <td>34052.391605</td>\n",
       "      <td>34192.508004</td>\n",
       "    </tr>\n",
       "  </tbody>\n",
       "</table>\n",
       "<p>17377 rows × 5 columns</p>\n",
       "</div>"
      ],
      "text/plain": [
       "              Close   Timestamp          High           Low          Open\n",
       "0      28650.166249  1609430400  28813.590185  28626.723157  28774.071184\n",
       "1      28634.955332  1609431300  28732.627836  28564.100414  28649.166278\n",
       "2      28463.313750  1609432200  28681.998007  28463.313750  28645.891128\n",
       "3      28384.280723  1609433100  28559.132322  28315.100000  28475.530204\n",
       "4      28566.108762  1609434000  28566.108762  28375.256962  28375.447293\n",
       "...             ...         ...           ...           ...           ...\n",
       "17372  34354.164427  1625065200  34623.021577  34170.967936  34592.105918\n",
       "17373  34300.000000  1625066100  34365.355328  34168.270400  34347.000000\n",
       "17374  34162.600444  1625067000  34351.545530  34153.266013  34293.792362\n",
       "17375  34196.414584  1625067900  34299.000000  34082.400478  34169.499925\n",
       "17376  34206.689288  1625068800  34289.707557  34052.391605  34192.508004\n",
       "\n",
       "[17377 rows x 5 columns]"
      ]
     },
     "execution_count": 348,
     "metadata": {},
     "output_type": "execute_result"
    }
   ],
   "source": [
    "dataframe = pd.read_csv('bitcoin2020.csv')\n",
    "dataframe"
   ]
  },
  {
   "cell_type": "code",
   "execution_count": 349,
   "id": "88a0568e",
   "metadata": {},
   "outputs": [],
   "source": [
    "dataframe = dataframe.iloc[:,[1,0]]"
   ]
  },
  {
   "cell_type": "code",
   "execution_count": 350,
   "id": "9c068b9d",
   "metadata": {},
   "outputs": [
    {
     "data": {
      "text/html": [
       "<div>\n",
       "<style scoped>\n",
       "    .dataframe tbody tr th:only-of-type {\n",
       "        vertical-align: middle;\n",
       "    }\n",
       "\n",
       "    .dataframe tbody tr th {\n",
       "        vertical-align: top;\n",
       "    }\n",
       "\n",
       "    .dataframe thead th {\n",
       "        text-align: right;\n",
       "    }\n",
       "</style>\n",
       "<table border=\"1\" class=\"dataframe\">\n",
       "  <thead>\n",
       "    <tr style=\"text-align: right;\">\n",
       "      <th></th>\n",
       "      <th>Timestamp</th>\n",
       "      <th>Close</th>\n",
       "    </tr>\n",
       "  </thead>\n",
       "  <tbody>\n",
       "    <tr>\n",
       "      <th>0</th>\n",
       "      <td>1609430400</td>\n",
       "      <td>28650.166249</td>\n",
       "    </tr>\n",
       "    <tr>\n",
       "      <th>1</th>\n",
       "      <td>1609431300</td>\n",
       "      <td>28634.955332</td>\n",
       "    </tr>\n",
       "    <tr>\n",
       "      <th>2</th>\n",
       "      <td>1609432200</td>\n",
       "      <td>28463.313750</td>\n",
       "    </tr>\n",
       "    <tr>\n",
       "      <th>3</th>\n",
       "      <td>1609433100</td>\n",
       "      <td>28384.280723</td>\n",
       "    </tr>\n",
       "    <tr>\n",
       "      <th>4</th>\n",
       "      <td>1609434000</td>\n",
       "      <td>28566.108762</td>\n",
       "    </tr>\n",
       "    <tr>\n",
       "      <th>...</th>\n",
       "      <td>...</td>\n",
       "      <td>...</td>\n",
       "    </tr>\n",
       "    <tr>\n",
       "      <th>17372</th>\n",
       "      <td>1625065200</td>\n",
       "      <td>34354.164427</td>\n",
       "    </tr>\n",
       "    <tr>\n",
       "      <th>17373</th>\n",
       "      <td>1625066100</td>\n",
       "      <td>34300.000000</td>\n",
       "    </tr>\n",
       "    <tr>\n",
       "      <th>17374</th>\n",
       "      <td>1625067000</td>\n",
       "      <td>34162.600444</td>\n",
       "    </tr>\n",
       "    <tr>\n",
       "      <th>17375</th>\n",
       "      <td>1625067900</td>\n",
       "      <td>34196.414584</td>\n",
       "    </tr>\n",
       "    <tr>\n",
       "      <th>17376</th>\n",
       "      <td>1625068800</td>\n",
       "      <td>34206.689288</td>\n",
       "    </tr>\n",
       "  </tbody>\n",
       "</table>\n",
       "<p>17377 rows × 2 columns</p>\n",
       "</div>"
      ],
      "text/plain": [
       "        Timestamp         Close\n",
       "0      1609430400  28650.166249\n",
       "1      1609431300  28634.955332\n",
       "2      1609432200  28463.313750\n",
       "3      1609433100  28384.280723\n",
       "4      1609434000  28566.108762\n",
       "...           ...           ...\n",
       "17372  1625065200  34354.164427\n",
       "17373  1625066100  34300.000000\n",
       "17374  1625067000  34162.600444\n",
       "17375  1625067900  34196.414584\n",
       "17376  1625068800  34206.689288\n",
       "\n",
       "[17377 rows x 2 columns]"
      ]
     },
     "execution_count": 350,
     "metadata": {},
     "output_type": "execute_result"
    }
   ],
   "source": [
    "dataframe"
   ]
  },
  {
   "cell_type": "code",
   "execution_count": 351,
   "id": "829f08c5",
   "metadata": {},
   "outputs": [
    {
     "data": {
      "text/plain": [
       "array([[1.60943040e+09, 2.86501662e+04],\n",
       "       [1.60943130e+09, 2.86349553e+04],\n",
       "       [1.60943220e+09, 2.84633138e+04],\n",
       "       ...,\n",
       "       [1.62506700e+09, 3.41626004e+04],\n",
       "       [1.62506790e+09, 3.41964146e+04],\n",
       "       [1.62506880e+09, 3.42066893e+04]])"
      ]
     },
     "execution_count": 351,
     "metadata": {},
     "output_type": "execute_result"
    }
   ],
   "source": [
    "dataset = dataframe.values\n",
    "dataset"
   ]
  },
  {
   "cell_type": "code",
   "execution_count": 352,
   "id": "ac2095b7",
   "metadata": {},
   "outputs": [],
   "source": [
    "scaler = MinMaxScaler(feature_range=(0, 1))\n",
    "dataset = scaler.fit_transform(dataset[:,1].reshape(-1, 1))\n",
    "# 时间序列不需要显式的时间标签，只需要一个数值组成的序列即可"
   ]
  },
  {
   "cell_type": "code",
   "execution_count": 353,
   "id": "8c5b4ece",
   "metadata": {},
   "outputs": [
    {
     "data": {
      "text/plain": [
       "array([[0.00731868],\n",
       "       [0.00689999],\n",
       "       [0.00217544],\n",
       "       ...,\n",
       "       [0.15905219],\n",
       "       [0.15998295],\n",
       "       [0.16026577]])"
      ]
     },
     "execution_count": 353,
     "metadata": {},
     "output_type": "execute_result"
    }
   ],
   "source": [
    "dataset"
   ]
  },
  {
   "cell_type": "code",
   "execution_count": 354,
   "id": "15d71cff",
   "metadata": {},
   "outputs": [],
   "source": [
    "train_size = int(len(dataset)*0.85)\n",
    "test_size = len(dataset)-train_size\n",
    "train, test = dataset[0: train_size], dataset[train_size: len(dataset)]"
   ]
  },
  {
   "cell_type": "code",
   "execution_count": 355,
   "id": "809d3ac7",
   "metadata": {},
   "outputs": [],
   "source": [
    "look_back = 10\n",
    "trainX, trainY = creat_dataset(train, look_back)\n",
    "testX, testY = creat_dataset(test, look_back)"
   ]
  },
  {
   "cell_type": "code",
   "execution_count": 356,
   "id": "a0e146c0",
   "metadata": {},
   "outputs": [
    {
     "data": {
      "text/plain": [
       "(14760, 10, 1)"
      ]
     },
     "execution_count": 356,
     "metadata": {},
     "output_type": "execute_result"
    }
   ],
   "source": [
    "trainX.shape  # 第一个是样本总数，第二个是每一个样本中的时间序列的长度，第三个是每一个时间序列中的每一个元素的编码长度"
   ]
  },
  {
   "cell_type": "code",
   "execution_count": 357,
   "id": "d22a9c8e",
   "metadata": {},
   "outputs": [
    {
     "name": "stdout",
     "output_type": "stream",
     "text": [
      "_________________________________________________________________\n",
      "Layer (type)                 Output Shape              Param #   \n",
      "=================================================================\n",
      "lstm_26 (LSTM)               (None, 100)               40800     \n",
      "_________________________________________________________________\n",
      "dropout_14 (Dropout)         (None, 100)               0         \n",
      "_________________________________________________________________\n",
      "dense_26 (Dense)             (None, 100)               10100     \n",
      "_________________________________________________________________\n",
      "dense_27 (Dense)             (None, 1)                 101       \n",
      "_________________________________________________________________\n",
      "activation_14 (Activation)   (None, 1)                 0         \n",
      "=================================================================\n",
      "Total params: 51,001\n",
      "Trainable params: 51,001\n",
      "Non-trainable params: 0\n",
      "_________________________________________________________________\n"
     ]
    }
   ],
   "source": [
    "model = Sequential()\n",
    "\n",
    "model.add(LSTM(100, input_shape=(trainX.shape[1],trainX.shape[2])))\n",
    "#model.add(Dropout(0.2))\n",
    "\n",
    "# model.add(LSTM(100, return_sequences=False))\n",
    "# #model.add(Dropout(0.2))\n",
    "\n",
    "# model.add(LSTM(200, return_sequences=True))\n",
    "# #model.add(Dropout(0.2))\n",
    "\n",
    "# model.add(LSTM(300, return_sequences=False))\n",
    "model.add(Dropout(0.2))\n",
    "\n",
    "model.add(Dense(100))\n",
    "model.add(Dense(1))\n",
    "\n",
    "model.add(Activation('relu'))\n",
    "start = time.time()\n",
    "model.compile(loss='mean_squared_error', optimizer='Adam')\n",
    "model.summary()\n"
   ]
  },
  {
   "cell_type": "code",
   "execution_count": 358,
   "id": "e0698d51",
   "metadata": {},
   "outputs": [
    {
     "name": "stdout",
     "output_type": "stream",
     "text": [
      "WARNING:tensorflow:The `nb_epoch` argument in `fit` has been renamed `epochs`.\n",
      "Train on 13284 samples, validate on 1476 samples\n",
      "Epoch 1/10\n",
      " - 5s - loss: 0.0129 - val_loss: 1.9429e-04\n",
      "Epoch 2/10\n",
      " - 2s - loss: 0.0011 - val_loss: 2.5975e-04\n",
      "Epoch 3/10\n",
      " - 2s - loss: 8.0680e-04 - val_loss: 1.9105e-04\n",
      "Epoch 4/10\n",
      " - 2s - loss: 6.7393e-04 - val_loss: 2.1915e-04\n",
      "Epoch 5/10\n",
      " - 2s - loss: 5.7297e-04 - val_loss: 1.8256e-04\n",
      "Epoch 6/10\n",
      " - 2s - loss: 4.6455e-04 - val_loss: 2.9178e-04\n",
      "Epoch 7/10\n",
      " - 3s - loss: 4.0776e-04 - val_loss: 1.5715e-04\n",
      "Epoch 8/10\n",
      " - 2s - loss: 3.9965e-04 - val_loss: 1.5567e-04\n",
      "Epoch 9/10\n",
      " - 2s - loss: 3.3701e-04 - val_loss: 1.6050e-04\n",
      "Epoch 10/10\n",
      " - 3s - loss: 3.1422e-04 - val_loss: 1.5271e-04\n",
      "compilatiom time: 26.384696006774902\n"
     ]
    }
   ],
   "source": [
    "history = model.fit(trainX, trainY, batch_size=64, nb_epoch=10, \n",
    "                    validation_split=0.1, verbose=2)\n",
    "print('compilatiom time:', time.time()-start)"
   ]
  },
  {
   "cell_type": "code",
   "execution_count": 359,
   "id": "d93f0c9a",
   "metadata": {},
   "outputs": [],
   "source": [
    "trainPredict = model.predict(trainX)\n",
    "testPredict = model.predict(testX)"
   ]
  },
  {
   "cell_type": "code",
   "execution_count": 360,
   "id": "ebc582f8",
   "metadata": {},
   "outputs": [
    {
     "data": {
      "text/plain": [
       "array([[0.00685739],\n",
       "       [0.00808263],\n",
       "       [0.00981372],\n",
       "       ...,\n",
       "       [0.29234025],\n",
       "       [0.2891301 ],\n",
       "       [0.28558055]], dtype=float32)"
      ]
     },
     "execution_count": 360,
     "metadata": {},
     "output_type": "execute_result"
    }
   ],
   "source": [
    "trainPredict"
   ]
  },
  {
   "cell_type": "code",
   "execution_count": 361,
   "id": "0484b08d",
   "metadata": {},
   "outputs": [
    {
     "data": {
      "text/plain": [
       "array([[0.01026299],\n",
       "       [0.01331601],\n",
       "       [0.01147663],\n",
       "       ...,\n",
       "       [0.28635993],\n",
       "       [0.28221371],\n",
       "       [0.28478061]])"
      ]
     },
     "execution_count": 361,
     "metadata": {},
     "output_type": "execute_result"
    }
   ],
   "source": [
    "trainY"
   ]
  },
  {
   "cell_type": "code",
   "execution_count": 362,
   "id": "09b999ba",
   "metadata": {},
   "outputs": [],
   "source": [
    "trainPredict = scaler.inverse_transform(trainPredict)\n",
    "trainY = scaler.inverse_transform(trainY)\n",
    "testPredict = scaler.inverse_transform(testPredict)\n",
    "testY = scaler.inverse_transform(testY)"
   ]
  },
  {
   "cell_type": "code",
   "execution_count": 363,
   "id": "1c944f11",
   "metadata": {},
   "outputs": [
    {
     "data": {
      "text/plain": [
       "(14760, 1)"
      ]
     },
     "execution_count": 363,
     "metadata": {},
     "output_type": "execute_result"
    }
   ],
   "source": [
    "trainPredict.shape"
   ]
  },
  {
   "cell_type": "code",
   "execution_count": 364,
   "id": "030fdbde",
   "metadata": {},
   "outputs": [
    {
     "data": {
      "text/plain": [
       "(14760, 1)"
      ]
     },
     "execution_count": 364,
     "metadata": {},
     "output_type": "execute_result"
    }
   ],
   "source": [
    "trainY.shape"
   ]
  },
  {
   "cell_type": "code",
   "execution_count": 365,
   "id": "de51e27e",
   "metadata": {},
   "outputs": [
    {
     "data": {
      "text/plain": [
       "(2597, 1)"
      ]
     },
     "execution_count": 365,
     "metadata": {},
     "output_type": "execute_result"
    }
   ],
   "source": [
    "testPredict.shape"
   ]
  },
  {
   "cell_type": "code",
   "execution_count": 366,
   "id": "62a86e27",
   "metadata": {},
   "outputs": [
    {
     "data": {
      "text/plain": [
       "(2597, 1)"
      ]
     },
     "execution_count": 366,
     "metadata": {},
     "output_type": "execute_result"
    }
   ],
   "source": [
    "testY.shape"
   ]
  },
  {
   "cell_type": "code",
   "execution_count": 367,
   "id": "1256a939",
   "metadata": {},
   "outputs": [
    {
     "data": {
      "image/png": "[encoded data removed]",
      "text/plain": [
       "<Figure size 864x576 with 1 Axes>"
      ]
     },
     "metadata": {
      "needs_background": "light"
     },
     "output_type": "display_data"
    }
   ],
   "source": [
    "fig1 = plt.figure(figsize=(12, 8))\n",
    "plt.plot(history.history['loss'])\n",
    "plt.title('model loss')\n",
    "plt.ylabel('loss')\n",
    "plt.xlabel('epoch')\n",
    "plt.show()"
   ]
  },
  {
   "cell_type": "code",
   "execution_count": 368,
   "id": "4890ce9b",
   "metadata": {},
   "outputs": [],
   "source": [
    "trainPredictPlot = np.zeros(shape=dataset.shape)\n",
    "trainPredictPlot[:,:] = np.nan\n",
    "trainPredictPlot = np.reshape(trainPredictPlot, (dataset.shape[0], 1))\n",
    "# 使用之前的look_back+1个的数据预测当前的1个数据，所以从第look_back+1个才开始预测\n",
    "trainPredictPlot[look_back: len(trainPredict)+look_back, :] = trainPredict"
   ]
  },
  {
   "cell_type": "code",
   "execution_count": 369,
   "id": "7938d299",
   "metadata": {},
   "outputs": [],
   "source": [
    "testPredictPlot = np.zeros(shape=dataset.shape)\n",
    "testPredictPlot[:,:] = np.nan\n",
    "testPredictPlot = np.reshape(testPredictPlot, (dataset.shape[0], 1))\n",
    "testPredictPlot[(len(trainPredict)+look_back)+look_back: len(dataset), :] = testPredict"
   ]
  },
  {
   "cell_type": "code",
   "execution_count": 370,
   "id": "ce0e3004",
   "metadata": {},
   "outputs": [
    {
     "data": {
      "text/plain": [
       "array([[0.00731868],\n",
       "       [0.00689999],\n",
       "       [0.00217544],\n",
       "       ...,\n",
       "       [0.15905219],\n",
       "       [0.15998295],\n",
       "       [0.16026577]])"
      ]
     },
     "execution_count": 370,
     "metadata": {},
     "output_type": "execute_result"
    }
   ],
   "source": [
    "dataset"
   ]
  },
  {
   "cell_type": "code",
   "execution_count": 371,
   "id": "4a8beee1",
   "metadata": {},
   "outputs": [
    {
     "data": {
      "text/plain": [
       "array([[28650.16624938],\n",
       "       [28634.9553323 ],\n",
       "       [28463.31375029],\n",
       "       ...,\n",
       "       [34162.60044404],\n",
       "       [34196.41458411],\n",
       "       [34206.68928795]])"
      ]
     },
     "execution_count": 371,
     "metadata": {},
     "output_type": "execute_result"
    }
   ],
   "source": [
    "dataset = scaler.inverse_transform(dataset)\n",
    "dataset"
   ]
  },
  {
   "cell_type": "code",
   "execution_count": 372,
   "id": "866a021e",
   "metadata": {},
   "outputs": [
    {
     "data": {
      "text/plain": [
       "<matplotlib.legend.Legend at 0x2ba20c208d0>"
      ]
     },
     "execution_count": 372,
     "metadata": {},
     "output_type": "execute_result"
    },
    {
     "data": {
      "image/png": "[encoded data removed]",
      "text/plain": [
       "<Figure size 432x288 with 1 Axes>"
      ]
     },
     "metadata": {
      "needs_background": "light"
     },
     "output_type": "display_data"
    }
   ],
   "source": [
    "plt.plot(dataset,label = 'actual data')\n",
    "plt.plot(trainPredictPlot,label = 'train prediction')\n",
    "plt.plot(testPredictPlot,label = 'test prediction')\n",
    "plt.legend()"
   ]
  },
  {
   "cell_type": "code",
   "execution_count": 373,
   "id": "aeeb6bad",
   "metadata": {},
   "outputs": [],
   "source": [
    "# sum_t = 0\n",
    "# testY = testY.reshape(-1,)\n",
    "# testPredict = testPredict.reshape(-1,)\n",
    "# print(testY.shape)\n",
    "# print(testPredict.shape)\n",
    "# for i in range(len(testY)):\n",
    "#     testY[i] = testY[i] / (max(testY) - min(testY))\n",
    "#     testPredict[i] = testPredict[i] / (max(testPredict) - min(testPredict))\n",
    "# for i in range(len(testY)):\n",
    "#     sum_t += (testPredict[i] - testY[i])**2\n",
    "# rmse = (sum_t / len(testPredict))**0.5\n",
    "# rmse"
   ]
  },
  {
   "cell_type": "code",
   "execution_count": 374,
   "id": "9b97c4e0",
   "metadata": {},
   "outputs": [
    {
     "data": {
      "text/plain": [
       "257.93264996674867"
      ]
     },
     "execution_count": 374,
     "metadata": {},
     "output_type": "execute_result"
    }
   ],
   "source": [
    "import numpy as np\n",
    "from sklearn.metrics import mean_squared_error #MSE\n",
    "from sklearn.metrics import mean_absolute_error #MAE\n",
    "from sklearn.metrics import r2_score#R 2\n",
    "#调用\n",
    "\n",
    "# mean_absolute_error(testY,testPredict)\n",
    "np.sqrt(mean_squared_error(testY,testPredict))  # RMSE就是对MSE开方即可\n",
    "\n"
   ]
  },
  {
   "cell_type": "code",
   "execution_count": 375,
   "id": "f92d0d46",
   "metadata": {},
   "outputs": [
    {
     "data": {
      "text/plain": [
       "0.9883044134156568"
      ]
     },
     "execution_count": 375,
     "metadata": {},
     "output_type": "execute_result"
    }
   ],
   "source": [
    "r2_score(testY,testPredict)"
   ]
  },
  {
   "cell_type": "code",
   "execution_count": 376,
   "id": "98ff8886",
   "metadata": {},
   "outputs": [
    {
     "data": {
      "text/plain": [
       "0.5260792763302496"
      ]
     },
     "execution_count": 376,
     "metadata": {},
     "output_type": "execute_result"
    }
   ],
   "source": [
    "#  MAPE和SMAPE\n",
    "def mape(y_true, y_pred):\n",
    "    return np.mean(np.abs((y_pred - y_true) / y_true)) * 100\n",
    "\n",
    "def smape(y_true, y_pred):\n",
    "    return 2.0 * np.mean(np.abs(y_pred - y_true) / (np.abs(y_pred) + np.abs(y_true))) * 100\n",
    "\n",
    "#  调用\n",
    "mape(testY, testPredict)\n"
   ]
  },
  {
   "cell_type": "code",
   "execution_count": null,
   "id": "40a238ad",
   "metadata": {},
   "outputs": [],
   "source": []
  }
 ],
 "metadata": {
  "kernelspec": {
   "display_name": "Python 3",
   "language": "python",
   "name": "python3"
  },
  "language_info": {
   "codemirror_mode": {
    "name": "ipython",
    "version": 3
   },
   "file_extension": ".py",
   "mimetype": "text/x-python",
   "name": "python",
   "nbconvert_exporter": "python",
   "pygments_lexer": "ipython3",
   "version": "3.6.2"
  }
 },
 "nbformat": 4,
 "nbformat_minor": 5
}
